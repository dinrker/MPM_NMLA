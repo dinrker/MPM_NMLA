{
 "cells": [
  {
   "cell_type": "code",
   "execution_count": 1,
   "metadata": {
    "collapsed": true
   },
   "outputs": [],
   "source": [
    "import numpy as np"
   ]
  },
  {
   "cell_type": "code",
   "execution_count": 4,
   "metadata": {
    "collapsed": true
   },
   "outputs": [],
   "source": [
    "def NtoL(N):\n",
    "    return int(np.ceil(( np.ceil(N/3.0) + np.floor(N/2.0) )/2))"
   ]
  },
  {
   "cell_type": "code",
   "execution_count": 5,
   "metadata": {
    "collapsed": false
   },
   "outputs": [],
   "source": [
    "## Matrix Pencil Method\n",
    "def Matrix_Pencil(y,tol=1e-3,L=0):\n",
    "    sh = y.shape\n",
    "    N = sh[0]\n",
    "    if sh[1]>1:\n",
    "        print 'Error: y should be a column vector'\n",
    "    if tol<0:\n",
    "        print 'Error: tol should be positive'\n",
    "    elif tol>=1:\n",
    "        tol = int(tol)\n",
    "    if L==0:\n",
    "        L = NtoL(N)\n",
    "    \n",
    "    Y = np.zeros((L+1,N-L),dtype=np.complex_) \n",
    "    for j in range(L+1):\n",
    "        Y[j] = y[j:N-L+j].T\n",
    "    Y = Y.T\n",
    "    U, s, V = np.linalg.svd(Y)\n",
    "    if tol>=1:\n",
    "        M = tol\n",
    "    else:\n",
    "        for m in range(len(s)):\n",
    "            if abs(s[m+1])/s[0] <= tol:\n",
    "                M = m+1\n",
    "                break\n",
    "    \n",
    "    V = V.T\n",
    "    S = np.diag(s)\n",
    "    SM = S[:,:M]\n",
    "    VM = V[:,:M]\n",
    "    V1 = VM[:L,:]\n",
    "    V2 = VM[1:L+1,:]\n",
    "\n",
    "    Y1 = np.dot( np.dot(U,SM),V1.T )\n",
    "    Y2 = np.dot( np.dot(U,SM),V2.T )\n",
    "    A = np.dot( np.linalg.pinv(Y1),Y2 )\n",
    "    ev = np.linalg.eigvals(A)\n",
    "    z = np.sort(ev)\n",
    "    z = sorted(z,reverse=True)\n",
    "    return z[:M]"
   ]
  },
  {
   "cell_type": "code",
   "execution_count": 6,
   "metadata": {
    "collapsed": false
   },
   "outputs": [
    {
     "name": "stdout",
     "output_type": "stream",
     "text": [
      "\n",
      "The exact pole: [(0.95105651629515353+0.3090169943749474j)] \n",
      "\n",
      "The pole found by Matrix Pencil Method: [(0.95105651629515331+0.30901699437494745j)] \n",
      "\n",
      "Relative error: 2.28878339926e-16\n"
     ]
    }
   ],
   "source": [
    "## Test\n",
    "x = np.zeros((11,1))\n",
    "for i in range(11):\n",
    "    x[i, 0] = i*1.0\n",
    "y = np.exp(1j*10*np.pi*x/100)\n",
    "ex_pole = np.exp(1j*10*np.pi/100)\n",
    "num_pole = Matrix_Pencil(y)\n",
    "print '\\nThe exact pole:', [ex_pole], '\\n'\n",
    "print 'The pole found by Matrix Pencil Method:', num_pole, '\\n'\n",
    "print 'Relative error:', abs(ex_pole - num_pole[0])/abs(ex_pole)"
   ]
  },
  {
   "cell_type": "code",
   "execution_count": null,
   "metadata": {
    "collapsed": true
   },
   "outputs": [],
   "source": []
  }
 ],
 "metadata": {
  "kernelspec": {
   "display_name": "Python 2",
   "language": "python",
   "name": "python2"
  },
  "language_info": {
   "codemirror_mode": {
    "name": "ipython",
    "version": 2
   },
   "file_extension": ".py",
   "mimetype": "text/x-python",
   "name": "python",
   "nbconvert_exporter": "python",
   "pygments_lexer": "ipython2",
   "version": "2.7.12"
  }
 },
 "nbformat": 4,
 "nbformat_minor": 0
}
