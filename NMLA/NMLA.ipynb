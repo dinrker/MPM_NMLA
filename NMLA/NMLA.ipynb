{
 "cells": [
  {
   "cell_type": "code",
   "execution_count": 25,
   "metadata": {
    "collapsed": true
   },
   "outputs": [],
   "source": [
    "import numpy as np\n",
    "import scipy.special as sp"
   ]
  },
  {
   "cell_type": "code",
   "execution_count": 153,
   "metadata": {
    "collapsed": true
   },
   "outputs": [],
   "source": [
    "# radius of the oberservation circle\n",
    "def NMLA_radius(omega,Rest=1):\n",
    "    # Input: omega--frequency; Rest--estimate of the distance from source to observation point\n",
    "    #\n",
    "    # Output: the radius of the oberservation circle\n",
    "    \n",
    "    poly = [1,0,1,-2.5-0.775*(omega*Rest)**0.5];\n",
    "    rt = np.roots(poly);\n",
    "    rs = np.real(rt[2])**3/omega\n",
    "    return rs"
   ]
  },
  {
   "cell_type": "code",
   "execution_count": 154,
   "metadata": {
    "collapsed": false
   },
   "outputs": [],
   "source": [
    "# NMLA filtering in the fourier space\n",
    "def BGFiltrage(fu,kr,imp,L,gau,M):\n",
    "    # INPUT: fu: FFT of impedance quantity U\n",
    "    #        kr: k*r\n",
    "    #        imp: parameter in impedance quantity\n",
    "    #        L: truncation level\n",
    "    #        gau: parameter in gaussian kernel\n",
    "    #        M: number of sample points on the observation cicle\n",
    "    #\n",
    "    # OUTPUT: filterd quantity BU\n",
    "    #\n",
    "    \n",
    "    # bessel and derivative of bessel\n",
    "    LP = max( L+2, 3) \n",
    "    idx = np.array(list(range(LP)))\n",
    "    Bj = sp.jv(idx, kr)  # bessel J_l(kr)\n",
    "    DBj = np.array([0.0]*(LP-1))\n",
    "    DBj[0] = -Bj[1]\n",
    "    DBj[1:] = 0.5*(Bj[:LP-2] - Bj[2:LP])  # derivative of bessel\n",
    "    \n",
    "    # gausian kernel\n",
    "    A = gau/L\n",
    "    G = np.array([0.0]*(L+1))\n",
    "    G[0] = 1.0\n",
    "    idx = np.array(list(xrange(1,L+1)))\n",
    "    G[1:] = np.exp(-0.5*(A*idx)**2)\n",
    "    G /= 2*np.sum(G) - 1\n",
    "    \n",
    "    # filtering operator\n",
    "    Fltr = np.array([0.0 + 0.0*1j]*(L+1))\n",
    "    Fltr[0] = Bj[0]-1j*DBj[0]*imp\n",
    "    Fltr[1:] = (Bj[1:L+1]-1j*DBj[1:L+1]*imp)*(1j**idx)\n",
    "    Fltr = G/Fltr\n",
    "    \n",
    "    fb = np.array([0.0 + 0.0*1j]*(M+1))\n",
    "    fb[0] = Fltr[0]*fu[0]                # FU_0\n",
    "    fb[idx] = Fltr[idx]*fu[idx]          # FU_{1,...,L} \n",
    "    fb[M-idx] = Fltr[idx]*fu[M-idx]      # FU_{-1,...,-L} \n",
    "    \n",
    "    return fb\n",
    "    \n",
    "    "
   ]
  },
  {
   "cell_type": "code",
   "execution_count": 157,
   "metadata": {
    "collapsed": false
   },
   "outputs": [],
   "source": [
    "    x0, y0 = 0.0, 0.0              # observation point\n",
    "    c0 = 1.0                     # wavespeed at observation point\n",
    "    omega = 1000.0               # frequency\n",
    "    Rest = 3.0                   # estimate of the distance from source to oberservation point\n",
    "    imp = 0.5 ;                # parameter in impedance quantity\n",
    "    gau = 3.5 ;                # Parameter in Gaussian function\n",
    "    \n",
    "    r = NMLA_radius(omega,Rest);\n",
    "\n",
    "    kr = r*omega/c0;                      # k*r\n",
    "    L = int(round(kr + (kr)**(1.0/3) -2.5));      # truncation level to obtain needed precision\n",
    "    L = max(1,L) ;\n",
    "    M = 2*(4*L)+1;                        # number of samples on the observation circle\n",
    "\n",
    "\n",
    "    # Angle discretizaion on the circle\n",
    "    angl = np.linspace(0,2*np.pi,M+1) ;  \n",
    "    ang=angl[:M] ;\n",
    "    X = x0 + r*np.cos(ang) ;\n",
    "    Y = y0 + r*np.sin(ang) ;\n",
    "    "
   ]
  }
 ],
 "metadata": {
  "anaconda-cloud": {},
  "kernelspec": {
   "display_name": "Python [default]",
   "language": "python",
   "name": "python2"
  },
  "language_info": {
   "codemirror_mode": {
    "name": "ipython",
    "version": 2
   },
   "file_extension": ".py",
   "mimetype": "text/x-python",
   "name": "python",
   "nbconvert_exporter": "python",
   "pygments_lexer": "ipython2",
   "version": "2.7.12"
  }
 },
 "nbformat": 4,
 "nbformat_minor": 1
}
