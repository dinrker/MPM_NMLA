{
 "cells": [
  {
   "cell_type": "code",
   "execution_count": 12,
   "metadata": {
    "collapsed": true
   },
   "outputs": [],
   "source": [
    "import numpy as np\n",
    "import scipy.special as sp\n",
    "import matplotlib.pyplot as plt\n",
    "%matplotlib inline  "
   ]
  },
  {
   "cell_type": "code",
   "execution_count": 2,
   "metadata": {
    "collapsed": true
   },
   "outputs": [],
   "source": [
    "# radius of the oberservation circle\n",
    "def NMLA_radius(omega,Rest=1):\n",
    "    # Input: omega--frequency; Rest--estimate of the distance from source to observation point\n",
    "    #\n",
    "    # Output: the radius of the oberservation circle\n",
    "    \n",
    "    poly = [1,0,1,-2.5-0.775*(omega*Rest)**0.5];\n",
    "    rt = np.roots(poly);\n",
    "    rs = np.real(rt[2])**3/omega\n",
    "    return rs"
   ]
  },
  {
   "cell_type": "code",
   "execution_count": 19,
   "metadata": {
    "collapsed": false
   },
   "outputs": [],
   "source": [
    "# NMLA filtering in the fourier space\n",
    "def BGFiltrage(fu,kr,imp,L,gau,M):\n",
    "    # INPUT: fu: FFT of impedance quantity U\n",
    "    #        kr: k*r\n",
    "    #        imp: parameter in impedance quantity\n",
    "    #        L: truncation level\n",
    "    #        gau: parameter in gaussian kernel\n",
    "    #        M: number of sample points on the observation cicle\n",
    "    #\n",
    "    # OUTPUT: filterd quantity BU\n",
    "    #\n",
    "    \n",
    "    # bessel and derivative of bessel\n",
    "    LP = max( L+2, 3) \n",
    "    idx = np.array(list(range(LP)))\n",
    "    Bj = sp.jv(idx, kr)  # bessel J_l(kr)\n",
    "    DBj = np.array([0.0]*(LP-1))\n",
    "    DBj[0] = -Bj[1]\n",
    "    DBj[1:] = 0.5*(Bj[:LP-2] - Bj[2:LP])  # derivative of bessel\n",
    "    \n",
    "    # gausian kernel\n",
    "    A = gau/L\n",
    "    G = np.array([0.0]*(L+1))\n",
    "    G[0] = 1.0\n",
    "    idx = np.array(list(xrange(1,L+1)))\n",
    "    G[1:] = np.exp(-0.5*(A*idx)**2)\n",
    "    G /= 2*np.sum(G) - 1\n",
    "    \n",
    "    # filtering operator\n",
    "    Fltr = np.array([0.0 + 0.0*1j]*(L+1))\n",
    "    Fltr[0] = Bj[0]-1j*DBj[0]*imp\n",
    "    Fltr[1:] = (Bj[1:L+1]-1j*DBj[1:L+1]*imp)*(1j**idx)\n",
    "    Fltr = G/Fltr\n",
    "    \n",
    "    fb = np.array([0.0 + 0.0*1j]*(M))\n",
    "    fb[0] = Fltr[0]*fu[0]                # FU_0\n",
    "    fb[idx] = Fltr[idx]*fu[idx]          # FU_{1,...,L} \n",
    "    fb[M-idx] = Fltr[idx]*fu[M-idx]      # FU_{-1,...,-L} \n",
    "    \n",
    "    return fb\n",
    "    \n",
    "    "
   ]
  },
  {
   "cell_type": "code",
   "execution_count": 43,
   "metadata": {
    "collapsed": true
   },
   "outputs": [],
   "source": [
    "def NMLA(x0,y0,c0,omega,Rest,u,ux,uy):\n",
    "    imp = 0.5 ;                # parameter in impedance quantity\n",
    "    gau = 3.5 ;                # Parameter in Gaussian function\n",
    "    \n",
    "    r = NMLA_radius(omega,Rest);\n",
    "\n",
    "    kr = r*omega/c0;                      # k*r\n",
    "    L = int(round(kr + (kr)**(1.0/3) -2.5));      # truncation level to obtain needed precision\n",
    "    L = max(1,L) ;\n",
    "    M = 2*(4*L)+1;                        # number of samples on the observation circle\n",
    "\n",
    "\n",
    "    # Angle discretizaion on the circle\n",
    "    angl = np.linspace(0,2*np.pi,M+1) ;  \n",
    "    ang = angl[:M] ;\n",
    "    X = x0 + r*np.cos(ang) ;\n",
    "    Y = y0 + r*np.sin(ang) ;\n",
    "    \n",
    "    # compute the impedance quantity\n",
    "    Field = u(X, Y, omega)\n",
    "    DUx = ux(X, Y, omega)\n",
    "    DUy = uy(X, Y, omega)\n",
    "\n",
    "    DField = DUx*np.cos(ang) + DUy*np.sin(ang)\n",
    "    U = imp*DField/(1j*omega/c0) + Field;\n",
    "    \n",
    "    # filtering\n",
    "    fu = np.fft.fft(U) \n",
    "    fbeta = BGFiltrage(fu,kr,imp,L,gau,M) \n",
    "    beta = np.fft.ifft(fbeta)   \n",
    "    \n",
    "    # estimate the ray angle\n",
    "    sorted_index = sorted(range(len(beta)),key=lambda x:abs(beta[x]), reverse = True)\n",
    "    est_ang = ang[sorted_index[0]]\n",
    "\n",
    "    # plot\n",
    "    plt.plot(ang,np.abs(beta))\n",
    "    \n",
    "    return est_ang"
   ]
  },
  {
   "cell_type": "code",
   "execution_count": 4,
   "metadata": {
    "collapsed": false
   },
   "outputs": [],
   "source": [
    "    x0, y0 = 0.0, 0.0              # observation point\n",
    "    c0 = 1.0                     # wavespeed at observation point\n",
    "    omega = 1000.0               # frequency\n",
    "    Rest = 3.0                   # estimate of the distance from source to oberservation point\n",
    "    imp = 0.5 ;                # parameter in impedance quantity\n",
    "    gau = 3.5 ;                # Parameter in Gaussian function\n",
    "    \n",
    "    r = NMLA_radius(omega,Rest);\n",
    "\n",
    "    kr = r*omega/c0;                      # k*r\n",
    "    L = int(round(kr + (kr)**(1.0/3) -2.5));      # truncation level to obtain needed precision\n",
    "    L = max(1,L) ;\n",
    "    M = 2*(4*L)+1;                        # number of samples on the observation circle\n",
    "\n",
    "\n",
    "    # Angle discretizaion on the circle\n",
    "    angl = np.linspace(0,2*np.pi,M+1) ;  \n",
    "    ang = angl[:M] ;\n",
    "    X = x0 + r*np.cos(ang) ;\n",
    "    Y = y0 + r*np.sin(ang) ;\n",
    "    "
   ]
  },
  {
   "cell_type": "code",
   "execution_count": 6,
   "metadata": {
    "collapsed": false
   },
   "outputs": [],
   "source": [
    "# Add source \n",
    "xs, ys = 2, 2\n",
    "rxy = lambda x, y: np.sqrt((x-xs)**2 + (y-ys)**2)\n",
    "u = lambda x, y, omega: 1j/4*np.sqrt(omega)*sp.hankel1(0, omega*rxy(x,y))\n",
    "ux = lambda x, y, omega: -1j/4*(omega**1.5)*sp.hankel1(1,omega*rxy(x,y))*(x-xs)/rxy(x,y)\n",
    "uy = lambda x, y, omega: -1j/4*(omega**1.5)*sp.hankel1(1,omega*rxy(x,y))*(y-ys)/rxy(x,y)"
   ]
  },
  {
   "cell_type": "code",
   "execution_count": 10,
   "metadata": {
    "collapsed": false
   },
   "outputs": [],
   "source": [
    "# compute the impedance quantity\n",
    "Field = u(X, Y, omega)\n",
    "DUx = ux(X, Y, omega)\n",
    "DUy = uy(X, Y, omega)\n",
    "\n",
    "DField = DUx*np.cos(ang) + DUy*np.sin(ang)\n",
    "U = imp*DField/(1j*omega/c0) + Field;\n"
   ]
  },
  {
   "cell_type": "code",
   "execution_count": 37,
   "metadata": {
    "collapsed": false
   },
   "outputs": [],
   "source": [
    "# filtering\n",
    "fu = np.fft.fft(U) \n",
    "fbeta = BGFiltrage(fu,kr,imp,L,gau,M) \n",
    "beta = np.fft.ifft(fbeta)    \n",
    "sorted_index = sorted(range(len(beta)),key=lambda x:abs(beta[x]), reverse = True)\n",
    "est_ang = ang[sorted_index[0]]"
   ]
  },
  {
   "cell_type": "code",
   "execution_count": 24,
   "metadata": {
    "collapsed": false
   },
   "outputs": [
    {
     "data": {
      "text/plain": [
       "[<matplotlib.lines.Line2D at 0x7fd7f337ca90>]"
      ]
     },
     "execution_count": 24,
     "metadata": {},
     "output_type": "execute_result"
    },
    {
     "data": {
      "image/png": "[encoded data removed]",
      "text/plain": [
       "<matplotlib.figure.Figure at 0x7fd7f34a8f10>"
      ]
     },
     "metadata": {},
     "output_type": "display_data"
    }
   ],
   "source": [
    "plt.plot(ang/np.pi,np.abs(beta))"
   ]
  },
  {
   "cell_type": "code",
   "execution_count": 22,
   "metadata": {
    "collapsed": false
   },
   "outputs": [
    {
     "data": {
      "text/plain": [
       "((337,), (337,), (337,), 337)"
      ]
     },
     "execution_count": 22,
     "metadata": {},
     "output_type": "execute_result"
    }
   ],
   "source": [
    "ang.shape, beta.shape, fu.shape, M"
   ]
  },
  {
   "cell_type": "code",
   "execution_count": 38,
   "metadata": {
    "collapsed": false
   },
   "outputs": [
    {
     "data": {
      "text/plain": [
       "1.252225519287834"
      ]
     },
     "execution_count": 38,
     "metadata": {},
     "output_type": "execute_result"
    }
   ],
   "source": [
    "est_ang/np.pi"
   ]
  },
  {
   "cell_type": "code",
   "execution_count": 28,
   "metadata": {
    "collapsed": false
   },
   "outputs": [],
   "source": [
    "?sorted"
   ]
  },
  {
   "cell_type": "code",
   "execution_count": 35,
   "metadata": {
    "collapsed": false
   },
   "outputs": [],
   "source": [
    "a = [1,4,3,2]\n",
    "b= sorted(range(len(a)),key=lambda x:a[x], reverse = True)"
   ]
  },
  {
   "cell_type": "code",
   "execution_count": 36,
   "metadata": {
    "collapsed": false
   },
   "outputs": [
    {
     "data": {
      "text/plain": [
       "1"
      ]
     },
     "execution_count": 36,
     "metadata": {},
     "output_type": "execute_result"
    }
   ],
   "source": [
    "b[0]"
   ]
  },
  {
   "cell_type": "code",
   "execution_count": 57,
   "metadata": {
    "collapsed": false
   },
   "outputs": [
    {
     "data": {
      "text/plain": [
       "<matplotlib.text.Text at 0x7fd7f3105d50>"
      ]
     },
     "execution_count": 57,
     "metadata": {},
     "output_type": "execute_result"
    },
    {
     "data": {
      "image/png": "[encoded data removed]",
      "text/plain": [
       "<matplotlib.figure.Figure at 0x7fd7f33edc50>"
      ]
     },
     "metadata": {},
     "output_type": "display_data"
    }
   ],
   "source": [
    "NMLA(x0,y0,c0,omega,Rest,u,ux,uy)\n",
    "plt.ylabel('theta/pi')"
   ]
  },
  {
   "cell_type": "code",
   "execution_count": 53,
   "metadata": {
    "collapsed": false
   },
   "outputs": [
    {
     "data": {
      "text/plain": [
       "1.25"
      ]
     },
     "execution_count": 53,
     "metadata": {},
     "output_type": "execute_result"
    }
   ],
   "source": [
    "import math\n",
    "math.atan2(-1,-1)/np.pi + 2"
   ]
  },
  {
   "cell_type": "code",
   "execution_count": null,
   "metadata": {
    "collapsed": true
   },
   "outputs": [],
   "source": []
  }
 ],
 "metadata": {
  "anaconda-cloud": {},
  "kernelspec": {
   "display_name": "Python [default]",
   "language": "python",
   "name": "python2"
  },
  "language_info": {
   "codemirror_mode": {
    "name": "ipython",
    "version": 2
   },
   "file_extension": ".py",
   "mimetype": "text/x-python",
   "name": "python",
   "nbconvert_exporter": "python",
   "pygments_lexer": "ipython2",
   "version": "2.7.12"
  }
 },
 "nbformat": 4,
 "nbformat_minor": 1
}
